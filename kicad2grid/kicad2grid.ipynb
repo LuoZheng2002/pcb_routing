{
 "cells": [
  {
   "cell_type": "code",
   "execution_count": 40,
   "id": "b51ab4d5",
   "metadata": {},
   "outputs": [],
   "source": [
    "import numpy as np\n",
    "import re\n",
    "import math\n",
    "import random\n",
    "from collections import defaultdict\n",
    "\n",
    "from grid import Point, Net, Grid"
   ]
  },
  {
   "cell_type": "code",
   "execution_count": 41,
   "id": "d6534084",
   "metadata": {},
   "outputs": [],
   "source": [
    "def align_to_grid(x, y, grid_size):\n",
    "\n",
    "    x_aligned = round(round(x / grid_size) * grid_size, 2)\n",
    "    y_aligned = round(round(y / grid_size) * grid_size, 2)\n",
    "    return x_aligned, y_aligned"
   ]
  },
  {
   "cell_type": "code",
   "execution_count": 42,
   "id": "9da4910c",
   "metadata": {},
   "outputs": [],
   "source": [
    "def align_pcb_elements(pads, vias, grid_size):\n",
    "    '''\n",
    "    # 对齐 footprints\n",
    "    for fp in footprints:\n",
    "        fp[\"x\"], fp[\"y\"] = align_to_grid(fp[\"x\"], fp[\"y\"], grid_size)\n",
    "    '''\n",
    "\n",
    "    # 对齐 pads\n",
    "    for pad in pads:\n",
    "        pad[\"x\"], pad[\"y\"] = align_to_grid(pad[\"x\"], pad[\"y\"], grid_size)\n",
    "\n",
    "    # 对齐 vias\n",
    "    for via in vias:\n",
    "        via[\"x\"], via[\"y\"] = align_to_grid(via[\"x\"], via[\"y\"], grid_size)\n",
    "    \n",
    "    '''\n",
    "    # 对齐 segments 的起点和终点\n",
    "    for seg in segments:\n",
    "        seg[\"x1\"], seg[\"y1\"] = align_to_grid(seg[\"x1\"], seg[\"y1\"], grid_size)\n",
    "        seg[\"x2\"], seg[\"y2\"] = align_to_grid(seg[\"x2\"], seg[\"y2\"], grid_size)\n",
    "    '''\n",
    "        \n",
    "    return pads, vias"
   ]
  },
  {
   "cell_type": "code",
   "execution_count": 43,
   "id": "0a75fffa",
   "metadata": {},
   "outputs": [],
   "source": [
    "def extract_vias(content):\n",
    "    \"\"\"提取所有 via 数据\"\"\"\n",
    "    vias = []\n",
    "    pattern = r'\\(via\\s+.*?\\(at\\s+([\\d\\.-]+)\\s+([\\d\\.-]+)\\)\\s+.*?\\(net\\s+(\\d+)\\)?'\n",
    "    for match in re.finditer(pattern, content, re.DOTALL):\n",
    "        x, y = float(match.group(1)), float(match.group(2))\n",
    "        net = match.group(3)\n",
    "        vias.append({\"x\": x, \"y\": y, \"net\": net})\n",
    "    return vias"
   ]
  },
  {
   "cell_type": "code",
   "execution_count": 44,
   "id": "6651be4d",
   "metadata": {},
   "outputs": [],
   "source": [
    "file_path = \"tutorial.kicad_pcb\"\n",
    "\n",
    "def read_kicad_pcb(file_path):\n",
    "\n",
    "    with open(file_path, 'r', encoding='utf-8') as f:\n",
    "        return f.read()"
   ]
  },
  {
   "cell_type": "code",
   "execution_count": 45,
   "id": "c7fa8348",
   "metadata": {},
   "outputs": [],
   "source": [
    "def extract_footprints(content):\n",
    "    \"\"\"提取 footprint 区块和对应的原点位置与角度\"\"\"\n",
    "    footprints = []\n",
    "    start = 0\n",
    "\n",
    "    while True:\n",
    "        start = content.find(\"(footprint \", start)\n",
    "        if start == -1:\n",
    "            break\n",
    "\n",
    "        depth = 0\n",
    "        end = start\n",
    "        while end < len(content):\n",
    "            if content[end] == '(':\n",
    "                depth += 1\n",
    "            elif content[end] == ')':\n",
    "                depth -= 1\n",
    "                if depth == 0:\n",
    "                    break\n",
    "            end += 1\n",
    "\n",
    "        footprint_block = content[start:end+1]\n",
    "\n",
    "        # 提取 name, at, rotation 等信息\n",
    "        name_match = re.search(r'\\(footprint\\s+\"(.*?)\"', footprint_block)\n",
    "        at_match = re.search(r'\\(at\\s+([\\d\\.-]+)\\s+([\\d\\.-]+)(?:\\s+([\\d\\.-]+))?', footprint_block)\n",
    "\n",
    "        if name_match and at_match:\n",
    "            name = name_match.group(1)\n",
    "            x = float(at_match.group(1))\n",
    "            y = float(at_match.group(2))\n",
    "            rotation = float(at_match.group(3)) if at_match.group(3) else 0.0\n",
    "\n",
    "            footprints.append({\n",
    "                \"name\": name,\n",
    "                \"x\": x,\n",
    "                \"y\": y,\n",
    "                \"rotation\": rotation,\n",
    "                \"body\": footprint_block  \n",
    "            })\n",
    "\n",
    "        start = end + 1\n",
    "\n",
    "    return footprints"
   ]
  },
  {
   "cell_type": "code",
   "execution_count": 72,
   "id": "7cf58bbb",
   "metadata": {},
   "outputs": [],
   "source": [
    "import math\n",
    "def extract_pads(footprints):\n",
    "    pads = []\n",
    "    pattern = r'\\(pad\\s+\"?\\d+\"?.*?\\(at\\s+([\\d\\.-]+)\\s+([\\d\\.-]+)(?:\\s+([\\d\\.-]+))?\\).*?\\(net\\s+(\\d)+\\s+\".*?\"\\)'\n",
    "    is_mirrored = ('(layer \"B.Cu\")' in footprints[\"body\"])\n",
    "    \n",
    "    for match in re.finditer(pattern, footprints[\"body\"], re.DOTALL):\n",
    "        xp, yp = float(match.group(1)), float(match.group(2))\n",
    "        pad_angle = float(match.group(3)) if match.group(3) else 0.0\n",
    "        net = match.group(4)\n",
    "        if is_mirrored:\n",
    "            yp = -yp\n",
    "            \n",
    "        #total_angle = footprints[\"rotation\"] + pad_angle\n",
    "        rotate = math.radians(-pad_angle)\n",
    "        x_abs = footprints[\"x\"] + xp * math.cos(rotate) - yp * math.sin(rotate)\n",
    "        y_abs = footprints[\"y\"] + xp * math.sin(rotate) + yp * math.cos(rotate)\n",
    "\n",
    "        pads.append({\"x\": round(x_abs, 4), \"y\": round(y_abs, 4), \"net\": net, \"footprint\": footprints[\"name\"]})\n",
    "    return pads"
   ]
  },
  {
   "cell_type": "code",
   "execution_count": 64,
   "id": "e0a3e5f6",
   "metadata": {},
   "outputs": [
    {
     "name": "stdout",
     "output_type": "stream",
     "text": [
      "[{'name': 'LED_THT:LED_D5.0mm', 'x': 65.46, 'y': 75.0, 'rotation': -90.0, 'body': '(footprint \"LED_THT:LED_D5.0mm\"\\n\\t\\t(layer \"F.Cu\")\\n\\t\\t(uuid \"de6da0c5-31ef-45ae-a6f3-1dc636252def\")\\n\\t\\t(at 65.46 75 -90)\\n\\t\\t(descr \"LED, diameter 5.0mm, 2 pins, http://cdn-reichelt.de/documents/datenblatt/A500/LL-504BC2E-009.pdf, generated by kicad-footprint-generator\")\\n\\t\\t(tags \"LED\")\\n\\t\\t(property \"Reference\" \"D1\"\\n\\t\\t\\t(at 1.27 -3.96 90)\\n\\t\\t\\t(layer \"F.SilkS\")\\n\\t\\t\\t(uuid \"f1220245-77cc-47ac-85a6-db98f119763e\")\\n\\t\\t\\t(effects\\n\\t\\t\\t\\t(font\\n\\t\\t\\t\\t\\t(size 1 1)\\n\\t\\t\\t\\t\\t(thickness 0.15)\\n\\t\\t\\t\\t)\\n\\t\\t\\t)\\n\\t\\t)\\n\\t\\t(property \"Value\" \"LED\"\\n\\t\\t\\t(at 1.27 3.96 90)\\n\\t\\t\\t(layer \"F.Fab\")\\n\\t\\t\\t(uuid \"b608f244-67c0-473c-b456-671a55205c94\")\\n\\t\\t\\t(effects\\n\\t\\t\\t\\t(font\\n\\t\\t\\t\\t\\t(size 1 1)\\n\\t\\t\\t\\t\\t(thickness 0.15)\\n\\t\\t\\t\\t)\\n\\t\\t\\t)\\n\\t\\t)\\n\\t\\t(property \"Datasheet\" \"\"\\n\\t\\t\\t(at 0 0 90)\\n\\t\\t\\t(layer \"F.Fab\")\\n\\t\\t\\t(hide yes)\\n\\t\\t\\t(uuid \"728cdb17-29d7-4026-988b-69092edcd23a\")\\n\\t\\t\\t(effects\\n\\t\\t\\t\\t(font\\n\\t\\t\\t\\t\\t(size 1.27 1.27)\\n\\t\\t\\t\\t\\t(thickness 0.15)\\n\\t\\t\\t\\t)\\n\\t\\t\\t)\\n\\t\\t)\\n\\t\\t(property \"Description\" \"Light emitting diode\"\\n\\t\\t\\t(at 0 0 90)\\n\\t\\t\\t(layer \"F.Fab\")\\n\\t\\t\\t(hide yes)\\n\\t\\t\\t(uuid \"9bd0ac17-ed98-4c01-88be-d8b1b96bcbf0\")\\n\\t\\t\\t(effects\\n\\t\\t\\t\\t(font\\n\\t\\t\\t\\t\\t(size 1.27 1.27)\\n\\t\\t\\t\\t\\t(thickness 0.15)\\n\\t\\t\\t\\t)\\n\\t\\t\\t)\\n\\t\\t)\\n\\t\\t(property \"Sim.Pins\" \"1=K 2=A\"\\n\\t\\t\\t(at 0 0 270)\\n\\t\\t\\t(unlocked yes)\\n\\t\\t\\t(layer \"F.Fab\")\\n\\t\\t\\t(hide yes)\\n\\t\\t\\t(uuid \"745f5ad3-804a-4dd4-8ee9-0d951c455e87\")\\n\\t\\t\\t(effects\\n\\t\\t\\t\\t(font\\n\\t\\t\\t\\t\\t(size 1 1)\\n\\t\\t\\t\\t\\t(thickness 0.15)\\n\\t\\t\\t\\t)\\n\\t\\t\\t)\\n\\t\\t)\\n\\t\\t(property ki_fp_filters \"LED* LED_SMD:* LED_THT:*\")\\n\\t\\t(path \"/8e5df903-d1b9-49ce-85fd-0148e55185af\")\\n\\t\\t(sheetname \"/\")\\n\\t\\t(sheetfile \"tutor_2.kicad_sch\")\\n\\t\\t(attr through_hole)\\n\\t\\t(fp_line\\n\\t\\t\\t(start -1.29 -1.545)\\n\\t\\t\\t(end -1.29 1.545)\\n\\t\\t\\t(stroke\\n\\t\\t\\t\\t(width 0.12)\\n\\t\\t\\t\\t(type solid)\\n\\t\\t\\t)\\n\\t\\t\\t(layer \"F.SilkS\")\\n\\t\\t\\t(uuid \"9739e84b-ecd5-4323-a91b-714fba17b139\")\\n\\t\\t)\\n\\t\\t(fp_arc\\n\\t\\t\\t(start 4.26 0.000048)\\n\\t\\t\\t(mid 2.071756 2.880501)\\n\\t\\t\\t(end -1.29 1.54483)\\n\\t\\t\\t(stroke\\n\\t\\t\\t\\t(width 0.12)\\n\\t\\t\\t\\t(type solid)\\n\\t\\t\\t)\\n\\t\\t\\t(layer \"F.SilkS\")\\n\\t\\t\\t(uuid \"f455ab9f-eaf5-421c-94c4-b420dcf5060a\")\\n\\t\\t)\\n\\t\\t(fp_arc\\n\\t\\t\\t(start -1.29 -1.54483)\\n\\t\\t\\t(mid 2.071756 -2.880501)\\n\\t\\t\\t(end 4.26 -0.000048)\\n\\t\\t\\t(stroke\\n\\t\\t\\t\\t(width 0.12)\\n\\t\\t\\t\\t(type solid)\\n\\t\\t\\t)\\n\\t\\t\\t(layer \"F.SilkS\")\\n\\t\\t\\t(uuid \"bbef4587-98bb-4802-b4aa-b4a4fb339543\")\\n\\t\\t)\\n\\t\\t(fp_circle\\n\\t\\t\\t(center 1.27 0)\\n\\t\\t\\t(end 3.77 0)\\n\\t\\t\\t(stroke\\n\\t\\t\\t\\t(width 0.12)\\n\\t\\t\\t\\t(type solid)\\n\\t\\t\\t)\\n\\t\\t\\t(fill no)\\n\\t\\t\\t(layer \"F.SilkS\")\\n\\t\\t\\t(uuid \"5bebc35b-d6a3-4c51-bfdf-a2f4ce21309e\")\\n\\t\\t)\\n\\t\\t(fp_line\\n\\t\\t\\t(start -1.94 3.21)\\n\\t\\t\\t(end 4.49 3.21)\\n\\t\\t\\t(stroke\\n\\t\\t\\t\\t(width 0.05)\\n\\t\\t\\t\\t(type solid)\\n\\t\\t\\t)\\n\\t\\t\\t(layer \"F.CrtYd\")\\n\\t\\t\\t(uuid \"b8dee53a-df67-4077-9bd7-c30c81acd55b\")\\n\\t\\t)\\n\\t\\t(fp_line\\n\\t\\t\\t(start 4.49 3.21)\\n\\t\\t\\t(end 4.49 -3.21)\\n\\t\\t\\t(stroke\\n\\t\\t\\t\\t(width 0.05)\\n\\t\\t\\t\\t(type solid)\\n\\t\\t\\t)\\n\\t\\t\\t(layer \"F.CrtYd\")\\n\\t\\t\\t(uuid \"00e37456-5227-45f0-ada2-fb6b8596ea70\")\\n\\t\\t)\\n\\t\\t(fp_line\\n\\t\\t\\t(start -1.94 -3.21)\\n\\t\\t\\t(end -1.94 3.21)\\n\\t\\t\\t(stroke\\n\\t\\t\\t\\t(width 0.05)\\n\\t\\t\\t\\t(type solid)\\n\\t\\t\\t)\\n\\t\\t\\t(layer \"F.CrtYd\")\\n\\t\\t\\t(uuid \"768488b1-7a88-4ed0-a1d7-19fe74faefc0\")\\n\\t\\t)\\n\\t\\t(fp_line\\n\\t\\t\\t(start 4.49 -3.21)\\n\\t\\t\\t(end -1.94 -3.21)\\n\\t\\t\\t(stroke\\n\\t\\t\\t\\t(width 0.05)\\n\\t\\t\\t\\t(type solid)\\n\\t\\t\\t)\\n\\t\\t\\t(layer \"F.CrtYd\")\\n\\t\\t\\t(uuid \"5e26347b-3cf8-41c9-b889-da3390ec7504\")\\n\\t\\t)\\n\\t\\t(fp_line\\n\\t\\t\\t(start -1.23 -1.469694)\\n\\t\\t\\t(end -1.23 1.469694)\\n\\t\\t\\t(stroke\\n\\t\\t\\t\\t(width 0.1)\\n\\t\\t\\t\\t(type solid)\\n\\t\\t\\t)\\n\\t\\t\\t(layer \"F.Fab\")\\n\\t\\t\\t(uuid \"2ac15200-c927-43c1-9e1a-37ddf0a657a1\")\\n\\t\\t)\\n\\t\\t(fp_arc\\n\\t\\t\\t(start -1.23 -1.469694)\\n\\t\\t\\t(mid 4.17 -0.000045)\\n\\t\\t\\t(end -1.229954 1.469772)\\n\\t\\t\\t(stroke\\n\\t\\t\\t\\t(width 0.1)\\n\\t\\t\\t\\t(type solid)\\n\\t\\t\\t)\\n\\t\\t\\t(layer \"F.Fab\")\\n\\t\\t\\t(uuid \"086a52a0-9fe3-4f7d-afc2-8e878e01cb49\")\\n\\t\\t)\\n\\t\\t(fp_circle\\n\\t\\t\\t(center 1.27 0)\\n\\t\\t\\t(end 3.77 0)\\n\\t\\t\\t(stroke\\n\\t\\t\\t\\t(width 0.1)\\n\\t\\t\\t\\t(type solid)\\n\\t\\t\\t)\\n\\t\\t\\t(fill no)\\n\\t\\t\\t(layer \"F.Fab\")\\n\\t\\t\\t(uuid \"ee23883c-ade1-4945-b289-1229266b25fd\")\\n\\t\\t)\\n\\t\\t(fp_text user \"${REFERENCE}\"\\n\\t\\t\\t(at 1.27 0 90)\\n\\t\\t\\t(layer \"F.Fab\")\\n\\t\\t\\t(uuid \"c538ebd5-97fd-453e-a7fe-0d7c653c9b37\")\\n\\t\\t\\t(effects\\n\\t\\t\\t\\t(font\\n\\t\\t\\t\\t\\t(size 0.8 0.8)\\n\\t\\t\\t\\t\\t(thickness 0.12)\\n\\t\\t\\t\\t)\\n\\t\\t\\t)\\n\\t\\t)\\n\\t\\t(pad \"1\" thru_hole rect\\n\\t\\t\\t(at 0 0 270)\\n\\t\\t\\t(size 1.8 1.8)\\n\\t\\t\\t(drill 0.9)\\n\\t\\t\\t(layers \"*.Cu\" \"*.Mask\")\\n\\t\\t\\t(remove_unused_layers no)\\n\\t\\t\\t(net 2 \"GND\")\\n\\t\\t\\t(pinfunction \"K\")\\n\\t\\t\\t(pintype \"passive\")\\n\\t\\t\\t(uuid \"e4c80575-56c8-4246-9378-3c83303e1ffc\")\\n\\t\\t)\\n\\t\\t(pad \"2\" thru_hole circle\\n\\t\\t\\t(at 2.54 0 270)\\n\\t\\t\\t(size 1.8 1.8)\\n\\t\\t\\t(drill 0.9)\\n\\t\\t\\t(layers \"*.Cu\" \"*.Mask\")\\n\\t\\t\\t(remove_unused_layers no)\\n\\t\\t\\t(net 3 \"/led\")\\n\\t\\t\\t(pinfunction \"A\")\\n\\t\\t\\t(pintype \"passive\")\\n\\t\\t\\t(uuid \"fc6a2c6a-f512-4e42-a021-6db8035f5f20\")\\n\\t\\t)\\n\\t\\t(embedded_fonts no)\\n\\t\\t(model \"${KICAD9_3DMODEL_DIR}/LED_THT.3dshapes/LED_D5.0mm.wrl\"\\n\\t\\t\\t(offset\\n\\t\\t\\t\\t(xyz 0 0 0)\\n\\t\\t\\t)\\n\\t\\t\\t(scale\\n\\t\\t\\t\\t(xyz 1 1 1)\\n\\t\\t\\t)\\n\\t\\t\\t(rotate\\n\\t\\t\\t\\t(xyz 0 0 0)\\n\\t\\t\\t)\\n\\t\\t)\\n\\t)'}, {'name': 'Resistor_THT:R_Axial_DIN0309_L9.0mm_D3.2mm_P12.70mm_Horizontal', 'x': 94.35, 'y': 78.0, 'rotation': 180.0, 'body': '(footprint \"Resistor_THT:R_Axial_DIN0309_L9.0mm_D3.2mm_P12.70mm_Horizontal\"\\n\\t\\t(layer \"B.Cu\")\\n\\t\\t(uuid \"2b00318a-ae76-4b4d-b93c-589fa558a587\")\\n\\t\\t(at 94.35 78 180)\\n\\t\\t(descr \"Resistor, Axial_DIN0309 series, Axial, Horizontal, pin pitch=12.7mm, 0.5W = 1/2W, length*diameter=9*3.2mm^2, http://cdn-reichelt.de/documents/datenblatt/B400/1_4W%23YAG.pdf\")\\n\\t\\t(tags \"Resistor Axial_DIN0309 series Axial Horizontal pin pitch 12.7mm 0.5W = 1/2W length 9mm diameter 3.2mm\")\\n\\t\\t(property \"Reference\" \"R1\"\\n\\t\\t\\t(at 6.35 2.72 0)\\n\\t\\t\\t(layer \"B.SilkS\")\\n\\t\\t\\t(uuid \"83de476e-11f9-49c9-b415-1a89f18469ac\")\\n\\t\\t\\t(effects\\n\\t\\t\\t\\t(font\\n\\t\\t\\t\\t\\t(size 1 1)\\n\\t\\t\\t\\t\\t(thickness 0.15)\\n\\t\\t\\t\\t)\\n\\t\\t\\t\\t(justify mirror)\\n\\t\\t\\t)\\n\\t\\t)\\n\\t\\t(property \"Value\" \"1k\"\\n\\t\\t\\t(at 6.35 -2.72 0)\\n\\t\\t\\t(layer \"B.Fab\")\\n\\t\\t\\t(uuid \"7e75827d-c919-4d4a-a14e-28dd956603b6\")\\n\\t\\t\\t(effects\\n\\t\\t\\t\\t(font\\n\\t\\t\\t\\t\\t(size 1 1)\\n\\t\\t\\t\\t\\t(thickness 0.15)\\n\\t\\t\\t\\t)\\n\\t\\t\\t\\t(justify mirror)\\n\\t\\t\\t)\\n\\t\\t)\\n\\t\\t(property \"Datasheet\" \"\"\\n\\t\\t\\t(at 0 0 0)\\n\\t\\t\\t(unlocked yes)\\n\\t\\t\\t(layer \"B.Fab\")\\n\\t\\t\\t(hide yes)\\n\\t\\t\\t(uuid \"6771a376-ccab-4b9b-af04-8c2664037521\")\\n\\t\\t\\t(effects\\n\\t\\t\\t\\t(font\\n\\t\\t\\t\\t\\t(size 1.27 1.27)\\n\\t\\t\\t\\t\\t(thickness 0.15)\\n\\t\\t\\t\\t)\\n\\t\\t\\t\\t(justify mirror)\\n\\t\\t\\t)\\n\\t\\t)\\n\\t\\t(property \"Description\" \"Resistor, US symbol\"\\n\\t\\t\\t(at 0 0 0)\\n\\t\\t\\t(unlocked yes)\\n\\t\\t\\t(layer \"B.Fab\")\\n\\t\\t\\t(hide yes)\\n\\t\\t\\t(uuid \"fa81afac-8660-4f85-8802-b0bdea85160b\")\\n\\t\\t\\t(effects\\n\\t\\t\\t\\t(font\\n\\t\\t\\t\\t\\t(size 1.27 1.27)\\n\\t\\t\\t\\t\\t(thickness 0.15)\\n\\t\\t\\t\\t)\\n\\t\\t\\t\\t(justify mirror)\\n\\t\\t\\t)\\n\\t\\t)\\n\\t\\t(property ki_fp_filters \"R_*\")\\n\\t\\t(path \"/4bb49801-6c1c-444e-81f4-b77460e3fd6f\")\\n\\t\\t(sheetname \"/\")\\n\\t\\t(sheetfile \"tutor_2.kicad_sch\")\\n\\t\\t(attr through_hole)\\n\\t\\t(fp_line\\n\\t\\t\\t(start 11.66 0)\\n\\t\\t\\t(end 10.97 0)\\n\\t\\t\\t(stroke\\n\\t\\t\\t\\t(width 0.12)\\n\\t\\t\\t\\t(type solid)\\n\\t\\t\\t)\\n\\t\\t\\t(layer \"B.SilkS\")\\n\\t\\t\\t(uuid \"b5303261-feaf-441e-ac47-3363bc3576ed\")\\n\\t\\t)\\n\\t\\t(fp_line\\n\\t\\t\\t(start 10.97 1.72)\\n\\t\\t\\t(end 1.73 1.72)\\n\\t\\t\\t(stroke\\n\\t\\t\\t\\t(width 0.12)\\n\\t\\t\\t\\t(type solid)\\n\\t\\t\\t)\\n\\t\\t\\t(layer \"B.SilkS\")\\n\\t\\t\\t(uuid \"51c178b3-d091-4239-8ca6-b0e88e8fd498\")\\n\\t\\t)\\n\\t\\t(fp_line\\n\\t\\t\\t(start 10.97 -1.72)\\n\\t\\t\\t(end 10.97 1.72)\\n\\t\\t\\t(stroke\\n\\t\\t\\t\\t(width 0.12)\\n\\t\\t\\t\\t(type solid)\\n\\t\\t\\t)\\n\\t\\t\\t(layer \"B.SilkS\")\\n\\t\\t\\t(uuid \"ec4cf630-f384-4dcb-9bdf-f4d7c1429bb1\")\\n\\t\\t)\\n\\t\\t(fp_line\\n\\t\\t\\t(start 1.73 1.72)\\n\\t\\t\\t(end 1.73 -1.72)\\n\\t\\t\\t(stroke\\n\\t\\t\\t\\t(width 0.12)\\n\\t\\t\\t\\t(type solid)\\n\\t\\t\\t)\\n\\t\\t\\t(layer \"B.SilkS\")\\n\\t\\t\\t(uuid \"d6930308-60ca-4059-949f-96b909d71cbd\")\\n\\t\\t)\\n\\t\\t(fp_line\\n\\t\\t\\t(start 1.73 -1.72)\\n\\t\\t\\t(end 10.97 -1.72)\\n\\t\\t\\t(stroke\\n\\t\\t\\t\\t(width 0.12)\\n\\t\\t\\t\\t(type solid)\\n\\t\\t\\t)\\n\\t\\t\\t(layer \"B.SilkS\")\\n\\t\\t\\t(uuid \"7a75685d-c52c-4605-b4cd-3c770a9e7291\")\\n\\t\\t)\\n\\t\\t(fp_line\\n\\t\\t\\t(start 1.04 0)\\n\\t\\t\\t(end 1.73 0)\\n\\t\\t\\t(stroke\\n\\t\\t\\t\\t(width 0.12)\\n\\t\\t\\t\\t(type solid)\\n\\t\\t\\t)\\n\\t\\t\\t(layer \"B.SilkS\")\\n\\t\\t\\t(uuid \"987c395a-dd28-4b4d-9776-c76472364dae\")\\n\\t\\t)\\n\\t\\t(fp_line\\n\\t\\t\\t(start 13.75 1.85)\\n\\t\\t\\t(end -1.05 1.85)\\n\\t\\t\\t(stroke\\n\\t\\t\\t\\t(width 0.05)\\n\\t\\t\\t\\t(type solid)\\n\\t\\t\\t)\\n\\t\\t\\t(layer \"B.CrtYd\")\\n\\t\\t\\t(uuid \"fe8ad8a0-c2f6-4eb1-8673-15c2f979ec81\")\\n\\t\\t)\\n\\t\\t(fp_line\\n\\t\\t\\t(start 13.75 -1.85)\\n\\t\\t\\t(end 13.75 1.85)\\n\\t\\t\\t(stroke\\n\\t\\t\\t\\t(width 0.05)\\n\\t\\t\\t\\t(type solid)\\n\\t\\t\\t)\\n\\t\\t\\t(layer \"B.CrtYd\")\\n\\t\\t\\t(uuid \"5411cd8f-bc8b-4442-8959-e33887dfe3c0\")\\n\\t\\t)\\n\\t\\t(fp_line\\n\\t\\t\\t(start -1.05 1.85)\\n\\t\\t\\t(end -1.05 -1.85)\\n\\t\\t\\t(stroke\\n\\t\\t\\t\\t(width 0.05)\\n\\t\\t\\t\\t(type solid)\\n\\t\\t\\t)\\n\\t\\t\\t(layer \"B.CrtYd\")\\n\\t\\t\\t(uuid \"6bacdb78-04f9-4b11-a97d-0f80e80ea549\")\\n\\t\\t)\\n\\t\\t(fp_line\\n\\t\\t\\t(start -1.05 -1.85)\\n\\t\\t\\t(end 13.75 -1.85)\\n\\t\\t\\t(stroke\\n\\t\\t\\t\\t(width 0.05)\\n\\t\\t\\t\\t(type solid)\\n\\t\\t\\t)\\n\\t\\t\\t(layer \"B.CrtYd\")\\n\\t\\t\\t(uuid \"e8be3f68-640b-45ce-ae10-ad2ba4cdc6f1\")\\n\\t\\t)\\n\\t\\t(fp_line\\n\\t\\t\\t(start 12.7 0)\\n\\t\\t\\t(end 10.85 0)\\n\\t\\t\\t(stroke\\n\\t\\t\\t\\t(width 0.1)\\n\\t\\t\\t\\t(type solid)\\n\\t\\t\\t)\\n\\t\\t\\t(layer \"B.Fab\")\\n\\t\\t\\t(uuid \"b2b7ba79-597c-4713-8914-b4bb129f4429\")\\n\\t\\t)\\n\\t\\t(fp_line\\n\\t\\t\\t(start 10.85 1.6)\\n\\t\\t\\t(end 1.85 1.6)\\n\\t\\t\\t(stroke\\n\\t\\t\\t\\t(width 0.1)\\n\\t\\t\\t\\t(type solid)\\n\\t\\t\\t)\\n\\t\\t\\t(layer \"B.Fab\")\\n\\t\\t\\t(uuid \"927c7923-b951-4406-b723-83e997993264\")\\n\\t\\t)\\n\\t\\t(fp_line\\n\\t\\t\\t(start 10.85 -1.6)\\n\\t\\t\\t(end 10.85 1.6)\\n\\t\\t\\t(stroke\\n\\t\\t\\t\\t(width 0.1)\\n\\t\\t\\t\\t(type solid)\\n\\t\\t\\t)\\n\\t\\t\\t(layer \"B.Fab\")\\n\\t\\t\\t(uuid \"15fea53f-07ff-415d-aead-6dfe59e847da\")\\n\\t\\t)\\n\\t\\t(fp_line\\n\\t\\t\\t(start 1.85 1.6)\\n\\t\\t\\t(end 1.85 -1.6)\\n\\t\\t\\t(stroke\\n\\t\\t\\t\\t(width 0.1)\\n\\t\\t\\t\\t(type solid)\\n\\t\\t\\t)\\n\\t\\t\\t(layer \"B.Fab\")\\n\\t\\t\\t(uuid \"997d6e58-9867-4c91-abb9-79ac821cd030\")\\n\\t\\t)\\n\\t\\t(fp_line\\n\\t\\t\\t(start 1.85 -1.6)\\n\\t\\t\\t(end 10.85 -1.6)\\n\\t\\t\\t(stroke\\n\\t\\t\\t\\t(width 0.1)\\n\\t\\t\\t\\t(type solid)\\n\\t\\t\\t)\\n\\t\\t\\t(layer \"B.Fab\")\\n\\t\\t\\t(uuid \"b83b1866-3650-48dc-a65a-ead0c14ab07e\")\\n\\t\\t)\\n\\t\\t(fp_line\\n\\t\\t\\t(start 0 0)\\n\\t\\t\\t(end 1.85 0)\\n\\t\\t\\t(stroke\\n\\t\\t\\t\\t(width 0.1)\\n\\t\\t\\t\\t(type solid)\\n\\t\\t\\t)\\n\\t\\t\\t(layer \"B.Fab\")\\n\\t\\t\\t(uuid \"fd414896-1beb-4c96-aaef-3e184f1cd269\")\\n\\t\\t)\\n\\t\\t(fp_text user \"${REFERENCE}\"\\n\\t\\t\\t(at 6.35 0 0)\\n\\t\\t\\t(layer \"B.Fab\")\\n\\t\\t\\t(uuid \"ca16b34e-67ab-497f-b90f-1f906eac7837\")\\n\\t\\t\\t(effects\\n\\t\\t\\t\\t(font\\n\\t\\t\\t\\t\\t(size 1 1)\\n\\t\\t\\t\\t\\t(thickness 0.15)\\n\\t\\t\\t\\t)\\n\\t\\t\\t\\t(justify mirror)\\n\\t\\t\\t)\\n\\t\\t)\\n\\t\\t(pad \"1\" thru_hole circle\\n\\t\\t\\t(at 0 0 180)\\n\\t\\t\\t(size 1.6 1.6)\\n\\t\\t\\t(drill 0.8)\\n\\t\\t\\t(layers \"*.Cu\" \"*.Mask\")\\n\\t\\t\\t(remove_unused_layers no)\\n\\t\\t\\t(net 1 \"VCC\")\\n\\t\\t\\t(pintype \"passive\")\\n\\t\\t\\t(uuid \"69b5d8e7-f03d-42d9-a9b3-9d8043776110\")\\n\\t\\t)\\n\\t\\t(pad \"2\" thru_hole oval\\n\\t\\t\\t(at 12.7 0 180)\\n\\t\\t\\t(size 1.6 1.6)\\n\\t\\t\\t(drill 0.8)\\n\\t\\t\\t(layers \"*.Cu\" \"*.Mask\")\\n\\t\\t\\t(remove_unused_layers no)\\n\\t\\t\\t(net 3 \"/led\")\\n\\t\\t\\t(pintype \"passive\")\\n\\t\\t\\t(uuid \"dafa021b-5304-44a0-b1f3-1a1ab7b11400\")\\n\\t\\t)\\n\\t\\t(embedded_fonts no)\\n\\t\\t(model \"${KICAD9_3DMODEL_DIR}/Resistor_THT.3dshapes/R_Axial_DIN0309_L9.0mm_D3.2mm_P12.70mm_Horizontal.wrl\"\\n\\t\\t\\t(offset\\n\\t\\t\\t\\t(xyz 0 0 0)\\n\\t\\t\\t)\\n\\t\\t\\t(scale\\n\\t\\t\\t\\t(xyz 1 1 1)\\n\\t\\t\\t)\\n\\t\\t\\t(rotate\\n\\t\\t\\t\\t(xyz 0 0 0)\\n\\t\\t\\t)\\n\\t\\t)\\n\\t)'}, {'name': 'Battery:BatteryHolder_Keystone_1058_1x2032', 'x': 80.0, 'y': 60.0, 'rotation': 180.0, 'body': '(footprint \"Battery:BatteryHolder_Keystone_1058_1x2032\"\\n\\t\\t(layer \"B.Cu\")\\n\\t\\t(uuid \"e727dd1c-89dd-4ded-b196-c2d286a44d46\")\\n\\t\\t(at 80 60 180)\\n\\t\\t(descr \"http://www.keyelco.com/product-pdf.cfm?p=14028\")\\n\\t\\t(tags \"Keystone type 1058 coin cell retainer\")\\n\\t\\t(property \"Reference\" \"BT1\"\\n\\t\\t\\t(at 0 -7.62 0)\\n\\t\\t\\t(layer \"B.SilkS\")\\n\\t\\t\\t(uuid \"b1bc19b7-be4d-4cbe-9c93-a5dd7a5a2752\")\\n\\t\\t\\t(effects\\n\\t\\t\\t\\t(font\\n\\t\\t\\t\\t\\t(size 1 1)\\n\\t\\t\\t\\t\\t(thickness 0.15)\\n\\t\\t\\t\\t)\\n\\t\\t\\t\\t(justify mirror)\\n\\t\\t\\t)\\n\\t\\t)\\n\\t\\t(property \"Value\" \"3v\"\\n\\t\\t\\t(at 0 9.398 0)\\n\\t\\t\\t(layer \"B.Fab\")\\n\\t\\t\\t(uuid \"8c3cf5d5-49ce-4970-ba1a-5addcde88573\")\\n\\t\\t\\t(effects\\n\\t\\t\\t\\t(font\\n\\t\\t\\t\\t\\t(size 1 1)\\n\\t\\t\\t\\t\\t(thickness 0.15)\\n\\t\\t\\t\\t)\\n\\t\\t\\t\\t(justify mirror)\\n\\t\\t\\t)\\n\\t\\t)\\n\\t\\t(property \"Datasheet\" \"\"\\n\\t\\t\\t(at 0 0 0)\\n\\t\\t\\t(unlocked yes)\\n\\t\\t\\t(layer \"B.Fab\")\\n\\t\\t\\t(hide yes)\\n\\t\\t\\t(uuid \"47f64602-4354-4032-9a13-d49657159ffe\")\\n\\t\\t\\t(effects\\n\\t\\t\\t\\t(font\\n\\t\\t\\t\\t\\t(size 1.27 1.27)\\n\\t\\t\\t\\t\\t(thickness 0.15)\\n\\t\\t\\t\\t)\\n\\t\\t\\t\\t(justify mirror)\\n\\t\\t\\t)\\n\\t\\t)\\n\\t\\t(property \"Description\" \"Single-cell battery\"\\n\\t\\t\\t(at 0 0 0)\\n\\t\\t\\t(unlocked yes)\\n\\t\\t\\t(layer \"B.Fab\")\\n\\t\\t\\t(hide yes)\\n\\t\\t\\t(uuid \"1cf097a3-3920-4a9a-b3dd-0e3c2b711042\")\\n\\t\\t\\t(effects\\n\\t\\t\\t\\t(font\\n\\t\\t\\t\\t\\t(size 1.27 1.27)\\n\\t\\t\\t\\t\\t(thickness 0.15)\\n\\t\\t\\t\\t)\\n\\t\\t\\t\\t(justify mirror)\\n\\t\\t\\t)\\n\\t\\t)\\n\\t\\t(path \"/fb0dd467-004c-4204-8dae-c59f94fa33c3\")\\n\\t\\t(sheetname \"/\")\\n\\t\\t(sheetfile \"tutor_2.kicad_sch\")\\n\\t\\t(attr smd)\\n\\t\\t(fp_line\\n\\t\\t\\t(start 14.31 1.9)\\n\\t\\t\\t(end 14.31 3.61)\\n\\t\\t\\t(stroke\\n\\t\\t\\t\\t(width 0.12)\\n\\t\\t\\t\\t(type solid)\\n\\t\\t\\t)\\n\\t\\t\\t(layer \"B.SilkS\")\\n\\t\\t\\t(uuid \"8516c469-6d58-4652-9257-70d5429d2d59\")\\n\\t\\t)\\n\\t\\t(fp_line\\n\\t\\t\\t(start 14.31 -1.9)\\n\\t\\t\\t(end 14.31 -3.61)\\n\\t\\t\\t(stroke\\n\\t\\t\\t\\t(width 0.12)\\n\\t\\t\\t\\t(type solid)\\n\\t\\t\\t)\\n\\t\\t\\t(layer \"B.SilkS\")\\n\\t\\t\\t(uuid \"d970b04e-b5e7-4d56-9296-5354eff0cb7f\")\\n\\t\\t)\\n\\t\\t(fp_line\\n\\t\\t\\t(start 14.31 -3.61)\\n\\t\\t\\t(end 10.692 -3.61)\\n\\t\\t\\t(stroke\\n\\t\\t\\t\\t(width 0.12)\\n\\t\\t\\t\\t(type solid)\\n\\t\\t\\t)\\n\\t\\t\\t(layer \"B.SilkS\")\\n\\t\\t\\t(uuid \"ede94050-20ab-4d84-b0c0-7cfadfe0d8fd\")\\n\\t\\t)\\n\\t\\t(fp_line\\n\\t\\t\\t(start 10.692 3.61)\\n\\t\\t\\t(end 14.31 3.61)\\n\\t\\t\\t(stroke\\n\\t\\t\\t\\t(width 0.12)\\n\\t\\t\\t\\t(type solid)\\n\\t\\t\\t)\\n\\t\\t\\t(layer \"B.SilkS\")\\n\\t\\t\\t(uuid \"0ba87de6-7ce2-4592-bf18-06ea17d20517\")\\n\\t\\t)\\n\\t\\t(fp_line\\n\\t\\t\\t(start 7.8473 -8.11)\\n\\t\\t\\t(end 3.86 -8.11)\\n\\t\\t\\t(stroke\\n\\t\\t\\t\\t(width 0.12)\\n\\t\\t\\t\\t(type solid)\\n\\t\\t\\t)\\n\\t\\t\\t(layer \"B.SilkS\")\\n\\t\\t\\t(uuid \"ca082bbd-9557-4281-8ead-40ff8a285cf2\")\\n\\t\\t)\\n\\t\\t(fp_line\\n\\t\\t\\t(start 1.66 -5.91)\\n\\t\\t\\t(end 3.86 -8.11)\\n\\t\\t\\t(stroke\\n\\t\\t\\t\\t(width 0.12)\\n\\t\\t\\t\\t(type solid)\\n\\t\\t\\t)\\n\\t\\t\\t(layer \"B.SilkS\")\\n\\t\\t\\t(uuid \"71720447-9bfe-4f9f-a8db-e9539daabfbc\")\\n\\t\\t)\\n\\t\\t(fp_line\\n\\t\\t\\t(start 1.66 -5.91)\\n\\t\\t\\t(end -1.66 -5.91)\\n\\t\\t\\t(stroke\\n\\t\\t\\t\\t(width 0.12)\\n\\t\\t\\t\\t(type solid)\\n\\t\\t\\t)\\n\\t\\t\\t(layer \"B.SilkS\")\\n\\t\\t\\t(uuid \"82f03bfc-0dda-48e5-afe1-4fa66d902e86\")\\n\\t\\t)\\n\\t\\t(fp_line\\n\\t\\t\\t(start -1.66 -5.91)\\n\\t\\t\\t(end -3.86 -8.11)\\n\\t\\t\\t(stroke\\n\\t\\t\\t\\t(width 0.12)\\n\\t\\t\\t\\t(type solid)\\n\\t\\t\\t)\\n\\t\\t\\t(layer \"B.SilkS\")\\n\\t\\t\\t(uuid \"02cfe2a2-5122-4e94-a2b6-b6b81d89d208\")\\n\\t\\t)\\n\\t\\t(fp_line\\n\\t\\t\\t(start -3.86 -8.11)\\n\\t\\t\\t(end -7.8473 -8.11)\\n\\t\\t\\t(stroke\\n\\t\\t\\t\\t(width 0.12)\\n\\t\\t\\t\\t(type solid)\\n\\t\\t\\t)\\n\\t\\t\\t(layer \"B.SilkS\")\\n\\t\\t\\t(uuid \"83d545d7-eb1a-4ffe-97e3-812a484ebba8\")\\n\\t\\t)\\n\\t\\t(fp_line\\n\\t\\t\\t(start -7.8473 8.11)\\n\\t\\t\\t(end 7.8473 8.11)\\n\\t\\t\\t(stroke\\n\\t\\t\\t\\t(width 0.12)\\n\\t\\t\\t\\t(type solid)\\n\\t\\t\\t)\\n\\t\\t\\t(layer \"B.SilkS\")\\n\\t\\t\\t(uuid \"63c7289e-90ff-434a-9935-fb1fd3643847\")\\n\\t\\t)\\n\\t\\t(fp_line\\n\\t\\t\\t(start -10.692 -3.61)\\n\\t\\t\\t(end -14.31 -3.61)\\n\\t\\t\\t(stroke\\n\\t\\t\\t\\t(width 0.12)\\n\\t\\t\\t\\t(type solid)\\n\\t\\t\\t)\\n\\t\\t\\t(layer \"B.SilkS\")\\n\\t\\t\\t(uuid \"dc925977-2500-4976-9bfe-5c7426848ad8\")\\n\\t\\t)\\n\\t\\t(fp_line\\n\\t\\t\\t(start -14.31 3.61)\\n\\t\\t\\t(end -10.692 3.61)\\n\\t\\t\\t(stroke\\n\\t\\t\\t\\t(width 0.12)\\n\\t\\t\\t\\t(type solid)\\n\\t\\t\\t)\\n\\t\\t\\t(layer \"B.SilkS\")\\n\\t\\t\\t(uuid \"a2e947b5-23e3-407d-a7d1-a057feafb2d1\")\\n\\t\\t)\\n\\t\\t(fp_line\\n\\t\\t\\t(start -14.31 1.9)\\n\\t\\t\\t(end -14.31 3.61)\\n\\t\\t\\t(stroke\\n\\t\\t\\t\\t(width 0.12)\\n\\t\\t\\t\\t(type solid)\\n\\t\\t\\t)\\n\\t\\t\\t(layer \"B.SilkS\")\\n\\t\\t\\t(uuid \"e18fbbd6-7a98-4884-aba1-2bd326f76b46\")\\n\\t\\t)\\n\\t\\t(fp_line\\n\\t\\t\\t(start -14.31 -1.9)\\n\\t\\t\\t(end -14.31 -3.61)\\n\\t\\t\\t(stroke\\n\\t\\t\\t\\t(width 0.12)\\n\\t\\t\\t\\t(type solid)\\n\\t\\t\\t)\\n\\t\\t\\t(layer \"B.SilkS\")\\n\\t\\t\\t(uuid \"9803b212-a3e1-4f68-bdb4-d7ad619e8251\")\\n\\t\\t)\\n\\t\\t(fp_arc\\n\\t\\t\\t(start 10.692 3.61)\\n\\t\\t\\t(mid 9.538084 6.031244)\\n\\t\\t\\t(end 7.845371 8.111789)\\n\\t\\t\\t(stroke\\n\\t\\t\\t\\t(width 0.12)\\n\\t\\t\\t\\t(type solid)\\n\\t\\t\\t)\\n\\t\\t\\t(layer \"B.SilkS\")\\n\\t\\t\\t(uuid \"de112f4d-0668-4305-907c-76c130dc89e5\")\\n\\t\\t)\\n\\t\\t(fp_arc\\n\\t\\t\\t(start 7.845371 -8.111789)\\n\\t\\t\\t(mid 9.538084 -6.031244)\\n\\t\\t\\t(end 10.692 -3.61)\\n\\t\\t\\t(stroke\\n\\t\\t\\t\\t(width 0.12)\\n\\t\\t\\t\\t(type solid)\\n\\t\\t\\t)\\n\\t\\t\\t(layer \"B.SilkS\")\\n\\t\\t\\t(uuid \"c6145dbc-4095-4faa-b5f3-bb0d5b590553\")\\n\\t\\t)\\n\\t\\t(fp_arc\\n\\t\\t\\t(start -7.845371 8.111789)\\n\\t\\t\\t(mid -9.538084 6.031244)\\n\\t\\t\\t(end -10.692 3.61)\\n\\t\\t\\t(stroke\\n\\t\\t\\t\\t(width 0.12)\\n\\t\\t\\t\\t(type solid)\\n\\t\\t\\t)\\n\\t\\t\\t(layer \"B.SilkS\")\\n\\t\\t\\t(uuid \"c2a1d76a-f706-407d-986f-fb5361ca04b6\")\\n\\t\\t)\\n\\t\\t(fp_arc\\n\\t\\t\\t(start -10.692 -3.61)\\n\\t\\t\\t(mid -9.538085 -6.031245)\\n\\t\\t\\t(end -7.845371 -8.111789)\\n\\t\\t\\t(stroke\\n\\t\\t\\t\\t(width 0.12)\\n\\t\\t\\t\\t(type solid)\\n\\t\\t\\t)\\n\\t\\t\\t(layer \"B.SilkS\")\\n\\t\\t\\t(uuid \"e6bf1c70-9258-4553-9e92-c90318d7340e\")\\n\\t\\t)\\n\\t\\t(fp_circle\\n\\t\\t\\t(center 0 0)\\n\\t\\t\\t(end 10 0)\\n\\t\\t\\t(stroke\\n\\t\\t\\t\\t(width 0.15)\\n\\t\\t\\t\\t(type solid)\\n\\t\\t\\t)\\n\\t\\t\\t(fill no)\\n\\t\\t\\t(layer \"Dwgs.User\")\\n\\t\\t\\t(uuid \"b0594d28-77fa-40b1-b892-6e739a4440f6\")\\n\\t\\t)\\n\\t\\t(fp_line\\n\\t\\t\\t(start 16.45 4.11)\\n\\t\\t\\t(end 11.06 4.11)\\n\\t\\t\\t(stroke\\n\\t\\t\\t\\t(width 0.05)\\n\\t\\t\\t\\t(type solid)\\n\\t\\t\\t)\\n\\t\\t\\t(layer \"B.CrtYd\")\\n\\t\\t\\t(uuid \"27c970ab-534f-4baf-aa00-2e94fade6630\")\\n\\t\\t)\\n\\t\\t(fp_line\\n\\t\\t\\t(start 16.45 -4.11)\\n\\t\\t\\t(end 16.45 4.11)\\n\\t\\t\\t(stroke\\n\\t\\t\\t\\t(width 0.05)\\n\\t\\t\\t\\t(type solid)\\n\\t\\t\\t)\\n\\t\\t\\t(layer \"B.CrtYd\")\\n\\t\\t\\t(uuid \"b98822c9-8e13-408d-a891-598b380fec14\")\\n\\t\\t)\\n\\t\\t(fp_line\\n\\t\\t\\t(start 11.06 -4.11)\\n\\t\\t\\t(end 16.45 -4.11)\\n\\t\\t\\t(stroke\\n\\t\\t\\t\\t(width 0.05)\\n\\t\\t\\t\\t(type solid)\\n\\t\\t\\t)\\n\\t\\t\\t(layer \"B.CrtYd\")\\n\\t\\t\\t(uuid \"d08e3663-1f5e-4767-b443-abdd92b97a03\")\\n\\t\\t)\\n\\t\\t(fp_line\\n\\t\\t\\t(start -16.45 4.11)\\n\\t\\t\\t(end -11.06 4.11)\\n\\t\\t\\t(stroke\\n\\t\\t\\t\\t(width 0.05)\\n\\t\\t\\t\\t(type solid)\\n\\t\\t\\t)\\n\\t\\t\\t(layer \"B.CrtYd\")\\n\\t\\t\\t(uuid \"1c4d2f90-afb6-456c-a1c9-d32c029638be\")\\n\\t\\t)\\n\\t\\t(fp_line\\n\\t\\t\\t(start -16.45 4.11)\\n\\t\\t\\t(end -16.45 -4.11)\\n\\t\\t\\t(stroke\\n\\t\\t\\t\\t(width 0.05)\\n\\t\\t\\t\\t(type solid)\\n\\t\\t\\t)\\n\\t\\t\\t(layer \"B.CrtYd\")\\n\\t\\t\\t(uuid \"6bd69e0a-1e9e-4e2f-ba51-bb0c11512df4\")\\n\\t\\t)\\n\\t\\t(fp_line\\n\\t\\t\\t(start -16.45 -4.11)\\n\\t\\t\\t(end -11.06 -4.11)\\n\\t\\t\\t(stroke\\n\\t\\t\\t\\t(width 0.05)\\n\\t\\t\\t\\t(type solid)\\n\\t\\t\\t)\\n\\t\\t\\t(layer \"B.CrtYd\")\\n\\t\\t\\t(uuid \"a9821553-8f3b-4cc3-9245-4ffa1c84c277\")\\n\\t\\t)\\n\\t\\t(fp_arc\\n\\t\\t\\t(start 11.057924 4.115582)\\n\\t\\t\\t(mid -0.002978 11.79897)\\n\\t\\t\\t(end -11.06 4.11)\\n\\t\\t\\t(stroke\\n\\t\\t\\t\\t(width 0.05)\\n\\t\\t\\t\\t(type solid)\\n\\t\\t\\t)\\n\\t\\t\\t(layer \"B.CrtYd\")\\n\\t\\t\\t(uuid \"2135a5e5-ef2a-4807-bcc9-bdacc573fe05\")\\n\\t\\t)\\n\\t\\t(fp_arc\\n\\t\\t\\t(start -11.057924 -4.115582)\\n\\t\\t\\t(mid 0.002978 -11.79897)\\n\\t\\t\\t(end 11.06 -4.11)\\n\\t\\t\\t(stroke\\n\\t\\t\\t\\t(width 0.05)\\n\\t\\t\\t\\t(type solid)\\n\\t\\t\\t)\\n\\t\\t\\t(layer \"B.CrtYd\")\\n\\t\\t\\t(uuid \"634bb111-7f3b-4840-81cb-d78613db3187\")\\n\\t\\t)\\n\\t\\t(fp_line\\n\\t\\t\\t(start 14.2 3.5)\\n\\t\\t\\t(end 14.2 1.9)\\n\\t\\t\\t(stroke\\n\\t\\t\\t\\t(width 0.1)\\n\\t\\t\\t\\t(type solid)\\n\\t\\t\\t)\\n\\t\\t\\t(layer \"B.Fab\")\\n\\t\\t\\t(uuid \"8fdb4452-4eeb-4096-a11b-882dd7284057\")\\n\\t\\t)\\n\\t\\t(fp_line\\n\\t\\t\\t(start 14.2 -1.9)\\n\\t\\t\\t(end 14.2 -3.5)\\n\\t\\t\\t(stroke\\n\\t\\t\\t\\t(width 0.1)\\n\\t\\t\\t\\t(type solid)\\n\\t\\t\\t)\\n\\t\\t\\t(layer \"B.Fab\")\\n\\t\\t\\t(uuid \"f2d53297-b177-49f6-99bc-eeb975c9c3e7\")\\n\\t\\t)\\n\\t\\t(fp_line\\n\\t\\t\\t(start 14.2 -3.5)\\n\\t\\t\\t(end 10.61275 -3.5)\\n\\t\\t\\t(stroke\\n\\t\\t\\t\\t(width 0.1)\\n\\t\\t\\t\\t(type solid)\\n\\t\\t\\t)\\n\\t\\t\\t(layer \"B.Fab\")\\n\\t\\t\\t(uuid \"431b6004-7be7-4075-ae89-f10bf3ec6ee1\")\\n\\t\\t)\\n\\t\\t(fp_line\\n\\t\\t\\t(start 10.61275 3.5)\\n\\t\\t\\t(end 14.2 3.5)\\n\\t\\t\\t(stroke\\n\\t\\t\\t\\t(width 0.1)\\n\\t\\t\\t\\t(type solid)\\n\\t\\t\\t)\\n\\t\\t\\t(layer \"B.Fab\")\\n\\t\\t\\t(uuid \"5f58af54-5e4e-49f9-a835-4555d8d51b24\")\\n\\t\\t)\\n\\t\\t(fp_line\\n\\t\\t\\t(start 3.9 -8)\\n\\t\\t\\t(end 7.8026 -8)\\n\\t\\t\\t(stroke\\n\\t\\t\\t\\t(width 0.1)\\n\\t\\t\\t\\t(type solid)\\n\\t\\t\\t)\\n\\t\\t\\t(layer \"B.Fab\")\\n\\t\\t\\t(uuid \"10d547dd-5240-47b8-b139-fe1e474d21b1\")\\n\\t\\t)\\n\\t\\t(fp_line\\n\\t\\t\\t(start 1.7 -5.8)\\n\\t\\t\\t(end 3.9 -8)\\n\\t\\t\\t(stroke\\n\\t\\t\\t\\t(width 0.1)\\n\\t\\t\\t\\t(type solid)\\n\\t\\t\\t)\\n\\t\\t\\t(layer \"B.Fab\")\\n\\t\\t\\t(uuid \"b9c15510-b6a5-4348-b000-32a675e9066b\")\\n\\t\\t)\\n\\t\\t(fp_line\\n\\t\\t\\t(start -1.7 -5.8)\\n\\t\\t\\t(end 1.7 -5.8)\\n\\t\\t\\t(stroke\\n\\t\\t\\t\\t(width 0.1)\\n\\t\\t\\t\\t(type solid)\\n\\t\\t\\t)\\n\\t\\t\\t(layer \"B.Fab\")\\n\\t\\t\\t(uuid \"04ce7d14-e4f5-4f28-b14a-d993b58158f0\")\\n\\t\\t)\\n\\t\\t(fp_line\\n\\t\\t\\t(start -1.7 -5.8)\\n\\t\\t\\t(end -3.9 -8)\\n\\t\\t\\t(stroke\\n\\t\\t\\t\\t(width 0.1)\\n\\t\\t\\t\\t(type solid)\\n\\t\\t\\t)\\n\\t\\t\\t(layer \"B.Fab\")\\n\\t\\t\\t(uuid \"bc1b99c8-9186-4368-9a44-54c6418a9279\")\\n\\t\\t)\\n\\t\\t(fp_line\\n\\t\\t\\t(start -3.9 -8)\\n\\t\\t\\t(end -7.8026 -8)\\n\\t\\t\\t(stroke\\n\\t\\t\\t\\t(width 0.1)\\n\\t\\t\\t\\t(type solid)\\n\\t\\t\\t)\\n\\t\\t\\t(layer \"B.Fab\")\\n\\t\\t\\t(uuid \"f17538f5-6c6f-46e4-99a8-698515d6c15c\")\\n\\t\\t)\\n\\t\\t(fp_line\\n\\t\\t\\t(start -7.8026 8)\\n\\t\\t\\t(end 7.8026 8)\\n\\t\\t\\t(stroke\\n\\t\\t\\t\\t(width 0.1)\\n\\t\\t\\t\\t(type solid)\\n\\t\\t\\t)\\n\\t\\t\\t(layer \"B.Fab\")\\n\\t\\t\\t(uuid \"78360442-3f61-4351-9c13-5a2ec470b8d3\")\\n\\t\\t)\\n\\t\\t(fp_line\\n\\t\\t\\t(start -14.2 3.5)\\n\\t\\t\\t(end -10.61275 3.5)\\n\\t\\t\\t(stroke\\n\\t\\t\\t\\t(width 0.1)\\n\\t\\t\\t\\t(type solid)\\n\\t\\t\\t)\\n\\t\\t\\t(layer \"B.Fab\")\\n\\t\\t\\t(uuid \"cb111dd1-394b-44cd-a6a2-c4a426d23e27\")\\n\\t\\t)\\n\\t\\t(fp_line\\n\\t\\t\\t(start -14.2 3.5)\\n\\t\\t\\t(end -14.2 1.9)\\n\\t\\t\\t(stroke\\n\\t\\t\\t\\t(width 0.1)\\n\\t\\t\\t\\t(type solid)\\n\\t\\t\\t)\\n\\t\\t\\t(layer \"B.Fab\")\\n\\t\\t\\t(uuid \"197d5cf8-b651-4a6b-969a-ea99753a313f\")\\n\\t\\t)\\n\\t\\t(fp_line\\n\\t\\t\\t(start -14.2 -1.9)\\n\\t\\t\\t(end -14.2 -3.5)\\n\\t\\t\\t(stroke\\n\\t\\t\\t\\t(width 0.1)\\n\\t\\t\\t\\t(type solid)\\n\\t\\t\\t)\\n\\t\\t\\t(layer \"B.Fab\")\\n\\t\\t\\t(uuid \"cb93477c-8f60-469c-a1fe-156c978410ed\")\\n\\t\\t)\\n\\t\\t(fp_line\\n\\t\\t\\t(start -14.2 -3.5)\\n\\t\\t\\t(end -10.61275 -3.5)\\n\\t\\t\\t(stroke\\n\\t\\t\\t\\t(width 0.1)\\n\\t\\t\\t\\t(type solid)\\n\\t\\t\\t)\\n\\t\\t\\t(layer \"B.Fab\")\\n\\t\\t\\t(uuid \"1089bcd8-f7e5-4ac5-818b-11e8a2e3a2dd\")\\n\\t\\t)\\n\\t\\t(fp_arc\\n\\t\\t\\t(start 10.61275 3.5)\\n\\t\\t\\t(mid 9.478596 5.919179)\\n\\t\\t\\t(end 7.802602 7.999992)\\n\\t\\t\\t(stroke\\n\\t\\t\\t\\t(width 0.1)\\n\\t\\t\\t\\t(type solid)\\n\\t\\t\\t)\\n\\t\\t\\t(layer \"B.Fab\")\\n\\t\\t\\t(uuid \"9cc09878-9c58-43bb-8aff-e0fe2a3cbe8f\")\\n\\t\\t)\\n\\t\\t(fp_arc\\n\\t\\t\\t(start 7.802602 -7.999992)\\n\\t\\t\\t(mid 9.478596 -5.91918)\\n\\t\\t\\t(end 10.61275 -3.5)\\n\\t\\t\\t(stroke\\n\\t\\t\\t\\t(width 0.1)\\n\\t\\t\\t\\t(type solid)\\n\\t\\t\\t)\\n\\t\\t\\t(layer \"B.Fab\")\\n\\t\\t\\t(uuid \"e2abf511-6bb3-4be8-8dcf-7b010b4b4f2d\")\\n\\t\\t)\\n\\t\\t(fp_arc\\n\\t\\t\\t(start -7.802602 7.999992)\\n\\t\\t\\t(mid -9.478596 5.91918)\\n\\t\\t\\t(end -10.61275 3.5)\\n\\t\\t\\t(stroke\\n\\t\\t\\t\\t(width 0.1)\\n\\t\\t\\t\\t(type solid)\\n\\t\\t\\t)\\n\\t\\t\\t(layer \"B.Fab\")\\n\\t\\t\\t(uuid \"6b816f9f-20af-4034-849c-1eb506a97f38\")\\n\\t\\t)\\n\\t\\t(fp_arc\\n\\t\\t\\t(start -10.61275 -3.5)\\n\\t\\t\\t(mid -9.478596 -5.91918)\\n\\t\\t\\t(end -7.802602 -7.999992)\\n\\t\\t\\t(stroke\\n\\t\\t\\t\\t(width 0.1)\\n\\t\\t\\t\\t(type solid)\\n\\t\\t\\t)\\n\\t\\t\\t(layer \"B.Fab\")\\n\\t\\t\\t(uuid \"c14b324e-14bc-4a79-bb10-0c7dd24334ed\")\\n\\t\\t)\\n\\t\\t(fp_text user \"${REFERENCE}\"\\n\\t\\t\\t(at 0 0 0)\\n\\t\\t\\t(layer \"B.Fab\")\\n\\t\\t\\t(uuid \"4c60163a-c385-40c9-a60f-a0e13763f08a\")\\n\\t\\t\\t(effects\\n\\t\\t\\t\\t(font\\n\\t\\t\\t\\t\\t(size 1 1)\\n\\t\\t\\t\\t\\t(thickness 0.15)\\n\\t\\t\\t\\t)\\n\\t\\t\\t\\t(justify mirror)\\n\\t\\t\\t)\\n\\t\\t)\\n\\t\\t(pad \"1\" smd rect\\n\\t\\t\\t(at -14.68 0 180)\\n\\t\\t\\t(size 2.54 3.51)\\n\\t\\t\\t(layers \"B.Cu\" \"B.Mask\" \"B.Paste\")\\n\\t\\t\\t(net 1 \"VCC\")\\n\\t\\t\\t(pinfunction \"+\")\\n\\t\\t\\t(pintype \"passive\")\\n\\t\\t\\t(uuid \"0cf71ac0-7d11-4b20-a2b0-5b4b4d5919cb\")\\n\\t\\t)\\n\\t\\t(pad \"2\" smd rect\\n\\t\\t\\t(at 14.68 0 180)\\n\\t\\t\\t(size 2.54 3.51)\\n\\t\\t\\t(layers \"B.Cu\" \"B.Mask\" \"B.Paste\")\\n\\t\\t\\t(net 2 \"GND\")\\n\\t\\t\\t(pinfunction \"-\")\\n\\t\\t\\t(pintype \"passive\")\\n\\t\\t\\t(uuid \"3573f8fc-70e3-4908-bdef-ea048002f2ae\")\\n\\t\\t)\\n\\t\\t(embedded_fonts no)\\n\\t\\t(model \"${KICAD9_3DMODEL_DIR}/Battery.3dshapes/BatteryHolder_Keystone_1058_1x2032.wrl\"\\n\\t\\t\\t(offset\\n\\t\\t\\t\\t(xyz 0 0 0)\\n\\t\\t\\t)\\n\\t\\t\\t(scale\\n\\t\\t\\t\\t(xyz 1 1 1)\\n\\t\\t\\t)\\n\\t\\t\\t(rotate\\n\\t\\t\\t\\t(xyz 0 0 0)\\n\\t\\t\\t)\\n\\t\\t)\\n\\t)'}]\n"
     ]
    }
   ],
   "source": [
    "footprints = extract_footprints(pcb_content)\n",
    "print(footprints)"
   ]
  },
  {
   "cell_type": "code",
   "execution_count": 65,
   "id": "3b2dd438",
   "metadata": {},
   "outputs": [
    {
     "name": "stdout",
     "output_type": "stream",
     "text": [
      "PADS: \n",
      "\n",
      "[{'x': 65.46, 'y': 75.0, 'net': '2', 'footprint': 'LED_THT:LED_D5.0mm'}, {'x': 65.46, 'y': 72.46, 'net': '3', 'footprint': 'LED_THT:LED_D5.0mm'}, {'x': 94.35, 'y': 78.0, 'net': '1', 'footprint': 'Resistor_THT:R_Axial_DIN0309_L9.0mm_D3.2mm_P12.70mm_Horizontal'}, {'x': 81.65, 'y': 78.0, 'net': '3', 'footprint': 'Resistor_THT:R_Axial_DIN0309_L9.0mm_D3.2mm_P12.70mm_Horizontal'}, {'x': 94.68, 'y': 60.0, 'net': '1', 'footprint': 'Battery:BatteryHolder_Keystone_1058_1x2032'}, {'x': 65.32, 'y': 60.0, 'net': '2', 'footprint': 'Battery:BatteryHolder_Keystone_1058_1x2032'}]\n",
      "\n",
      "VIAS: \n",
      "\n",
      "[{'x': 95.0, 'y': 69.0, 'net': '1'}]\n"
     ]
    }
   ],
   "source": [
    "pcb_content = read_kicad_pcb(file_path)\n",
    "pads = []\n",
    "for footprint in footprints: \n",
    "    fp_pads = extract_pads(footprint)\n",
    "    pads.extend(fp_pads)\n",
    "vias = extract_vias(pcb_content)\n",
    "print(\"PADS: \\n\")\n",
    "print(pads)\n",
    "print(\"\\nVIAS: \\n\")\n",
    "print(vias)"
   ]
  },
  {
   "cell_type": "code",
   "execution_count": 73,
   "id": "7eb8746d",
   "metadata": {},
   "outputs": [
    {
     "name": "stdout",
     "output_type": "stream",
     "text": [
      "{'x': 65.46, 'y': 75.0, 'net': '2', 'footprint': 'LED_THT:LED_D5.0mm'}\n",
      "{'x': 65.46, 'y': 77.54, 'net': '3', 'footprint': 'LED_THT:LED_D5.0mm'}\n",
      "{'x': 94.35, 'y': 78.0, 'net': '1', 'footprint': 'Resistor_THT:R_Axial_DIN0309_L9.0mm_D3.2mm_P12.70mm_Horizontal'}\n",
      "{'x': 81.65, 'y': 78.0, 'net': '3', 'footprint': 'Resistor_THT:R_Axial_DIN0309_L9.0mm_D3.2mm_P12.70mm_Horizontal'}\n",
      "{'x': 94.68, 'y': 60.0, 'net': '1', 'footprint': 'Battery:BatteryHolder_Keystone_1058_1x2032'}\n",
      "{'x': 65.32, 'y': 60.0, 'net': '2', 'footprint': 'Battery:BatteryHolder_Keystone_1058_1x2032'}\n"
     ]
    }
   ],
   "source": [
    "all_pads = []\n",
    "for fp in footprints:\n",
    "    pads = extract_pads(fp)\n",
    "    all_pads.extend(pads)\n",
    "    \n",
    "for pad in all_pads:\n",
    "    print(pad)"
   ]
  },
  {
   "cell_type": "code",
   "execution_count": 74,
   "id": "98ea2398",
   "metadata": {},
   "outputs": [
    {
     "name": "stdout",
     "output_type": "stream",
     "text": [
      "Aligned PADS: \n",
      "\n",
      "{'x': 66.04, 'y': 76.2, 'net': '2', 'footprint': 'LED_THT:LED_D5.0mm'}\n",
      "{'x': 66.04, 'y': 78.74, 'net': '3', 'footprint': 'LED_THT:LED_D5.0mm'}\n",
      "{'x': 93.98, 'y': 78.74, 'net': '1', 'footprint': 'Resistor_THT:R_Axial_DIN0309_L9.0mm_D3.2mm_P12.70mm_Horizontal'}\n",
      "{'x': 81.28, 'y': 78.74, 'net': '3', 'footprint': 'Resistor_THT:R_Axial_DIN0309_L9.0mm_D3.2mm_P12.70mm_Horizontal'}\n",
      "{'x': 93.98, 'y': 60.96, 'net': '1', 'footprint': 'Battery:BatteryHolder_Keystone_1058_1x2032'}\n",
      "{'x': 66.04, 'y': 60.96, 'net': '2', 'footprint': 'Battery:BatteryHolder_Keystone_1058_1x2032'}\n",
      "\n",
      "Aligned VIAS: \n",
      "\n",
      "{'x': 93.98, 'y': 68.58, 'net': '1'}\n"
     ]
    }
   ],
   "source": [
    "a_pads, a_vias = align_pcb_elements(all_pads, vias, grid_size)\n",
    "print(\"Aligned PADS: \\n\")\n",
    "for pad in a_pads:\n",
    "    print(pad)\n",
    "print(\"\\nAligned VIAS: \\n\")\n",
    "for via in vias:\n",
    "    print(via)"
   ]
  },
  {
   "cell_type": "code",
   "execution_count": 75,
   "id": "85492c4f",
   "metadata": {},
   "outputs": [],
   "source": [
    "def generate_net_colors(net_ids):\n",
    "    net_colors = {}\n",
    "    for net_id in net_ids:\n",
    "        random.seed(int(net_id))\n",
    "        r = random.randint(0, 255)\n",
    "        g = random.randint(0, 255)\n",
    "        b = random.randint(0, 255)\n",
    "        net_colors[net_id] = (r, g, b)\n",
    "    return net_colors"
   ]
  },
  {
   "cell_type": "code",
   "execution_count": 76,
   "id": "7506d2ae",
   "metadata": {},
   "outputs": [],
   "source": [
    "def to_index(x, y, origin_x, origin_y, grid_size):\n",
    "    ix = round((x - origin_x) / grid_size)\n",
    "    iy = round((y - origin_y) / grid_size)\n",
    "    return ix, iy"
   ]
  },
  {
   "cell_type": "code",
   "execution_count": 77,
   "id": "fe9bf73e",
   "metadata": {},
   "outputs": [],
   "source": [
    "def convert_to_grid(pads, vias, grid_size):\n",
    "    \"\"\"\n",
    "    将 pads 和 vias 转换为 Grid 结构。\n",
    "    - net_colors: {\"1\": (255, 0, 0)}\n",
    "    \"\"\"\n",
    "    pad_points = defaultdict(set)\n",
    "    \n",
    "    net_ids = set(pad[\"net\"] for pad in pads) | set(via[\"net\"] for via in vias)\n",
    "    net_colors = generate_net_colors(net_ids)\n",
    "    print(\"Net colors: \\n\")\n",
    "    print(net_colors)\n",
    "    \n",
    "    \n",
    "    for item in pads + vias:\n",
    "        net_id = item[\"net\"]\n",
    "        x, y = item[\"x\"], item[\"y\"]\n",
    "        rgb = net_colors.get(net_id, (0, 0, 0))  # default\n",
    "        net_obj = Net(pad_c = rgb, route_c = rgb)\n",
    "        pad_points[net_obj].add(Point(x, y))\n",
    "\n",
    "        \n",
    "    \n",
    "    all_points = []\n",
    "    for point_set in pad_points.values():\n",
    "        for pt in point_set:\n",
    "            all_points.append(pt)\n",
    "    max_x = (max(pt.x for pt in all_points) + grid_size) if all_points else 0\n",
    "    max_y = (max(pt.y for pt in all_points) + grid_size) if all_points else 0\n",
    "    min_x = (min(pt.x for pt in all_points) - grid_size) if all_points else 0\n",
    "    min_y = (min(pt.y for pt in all_points) - grid_size) if all_points else 0\n",
    "    \n",
    "    index_pad_points = defaultdict(set)\n",
    "    for net, points in pad_points.items():\n",
    "        for pt in points:\n",
    "            ix, iy = to_index(pt.x, pt.y, min_x, min_y, grid_size)\n",
    "            index_pad_points[net].add(Point(ix, iy))\n",
    "\n",
    "    return Grid(pads = index_pad_points, traces = defaultdict(set), diagonal_traces = defaultdict(set), \n",
    "                width = round((max_x - min_x) / grid_size), \n",
    "                height = round((max_y - min_y)/grid_size))\n",
    "\n"
   ]
  },
  {
   "cell_type": "code",
   "execution_count": 78,
   "id": "a7abcdf1",
   "metadata": {},
   "outputs": [
    {
     "name": "stdout",
     "output_type": "stream",
     "text": [
      "Net colors: \n",
      "\n",
      "{'3': (121, 66, 189), '1': (68, 32, 130), '2': (28, 46, 43)}\n",
      "\n",
      " Net(pad_c=(28, 46, 43), route_c=(28, 46, 43))\n",
      "  Pad at: (1, 1)\n",
      "  Pad at: (1, 7)\n",
      "\n",
      " Net(pad_c=(121, 66, 189), route_c=(121, 66, 189))\n",
      "  Pad at: (1, 8)\n",
      "  Pad at: (7, 8)\n",
      "\n",
      " Net(pad_c=(68, 32, 130), route_c=(68, 32, 130))\n",
      "  Pad at: (12, 4)\n",
      "  Pad at: (12, 1)\n",
      "  Pad at: (12, 8)\n",
      "13\n",
      "9\n"
     ]
    }
   ],
   "source": [
    "grid = convert_to_grid(a_pads, a_vias, grid_size)\n",
    "for net, points in grid.pads.items():\n",
    "    print(f\"\\n {net}\")\n",
    "    for point in points:\n",
    "        print(f\"  Pad at: ({point.x}, {point.y})\")\n",
    "        \n",
    "print(grid.width)\n",
    "print(grid.height)"
   ]
  },
  {
   "cell_type": "code",
   "execution_count": 79,
   "id": "a52c4433",
   "metadata": {},
   "outputs": [],
   "source": [
    "def save_aligned_pcb(file_path, grid_size):\n",
    "    pcb_content = read_kicad_pcb(file_path)\n",
    "    footprints = extract_footprints(pcb_content)\n",
    "    pads = []\n",
    "    for fp in footprints:\n",
    "        fp_pads = extract_pads(fp)\n",
    "        pads.extend(fp_pads)\n",
    "    vias = extract_vias(pcb_content)\n",
    "\n",
    "    aligned_pads, aligned_vias = align_pcb_elements(pads, vias, grid_size)\n",
    "    grid = convert_to_grid(aligned_pads, aligned_vias, grid_size)\n",
    "    return grid"
   ]
  },
  {
   "cell_type": "code",
   "execution_count": 80,
   "id": "5feddd72",
   "metadata": {
    "scrolled": true
   },
   "outputs": [
    {
     "name": "stdout",
     "output_type": "stream",
     "text": [
      "Net colors: \n",
      "\n",
      "{'3': (121, 66, 189), '1': (68, 32, 130), '2': (28, 46, 43)}\n",
      "Net: Net(pad_c=(28, 46, 43), route_c=(28, 46, 43))\n",
      "  Pad at: (1, 1)\n",
      "  Pad at: (1, 7)\n",
      "Net: Net(pad_c=(121, 66, 189), route_c=(121, 66, 189))\n",
      "  Pad at: (1, 8)\n",
      "  Pad at: (7, 8)\n",
      "Net: Net(pad_c=(68, 32, 130), route_c=(68, 32, 130))\n",
      "  Pad at: (12, 4)\n",
      "  Pad at: (12, 1)\n",
      "  Pad at: (12, 8)\n",
      "13\n",
      "9\n"
     ]
    }
   ],
   "source": [
    "file_path = \"tutorial.kicad_pcb\"\n",
    "grid_size = 2.54\n",
    "GRID = save_aligned_pcb(file_path, grid_size)\n",
    "for NET, POINTS in GRID.pads.items():\n",
    "    print(f\"Net: {NET}\")\n",
    "    for point in POINTS:\n",
    "        print(f\"  Pad at: ({point.x}, {point.y})\")\n",
    "        \n",
    "print(GRID.width)\n",
    "print(GRID.height)"
   ]
  },
  {
   "cell_type": "code",
   "execution_count": 91,
   "id": "64462ed2",
   "metadata": {},
   "outputs": [
    {
     "data": {
      "image/png": "[encoded data removed]",
      "text/plain": [
       "<Figure size 720x576 with 1 Axes>"
      ]
     },
     "metadata": {
      "needs_background": "light"
     },
     "output_type": "display_data"
    }
   ],
   "source": [
    "import matplotlib.pyplot as plt\n",
    "import matplotlib.patches as patches\n",
    "from matplotlib.collections import PatchCollection\n",
    "\n",
    "def plot_pcb_grid(grid):\n",
    "    # Create figure\n",
    "    fig, ax = plt.subplots(figsize=(10, 8))\n",
    "    ax.set_title('')\n",
    "    ax.set_xlabel('')\n",
    "    ax.set_ylabel('')\n",
    "    \n",
    "    # Set up grid lines\n",
    "    ax.grid(True, which='both', color='lightgray', linestyle='-', linewidth=0.5)\n",
    "    ax.set_axisbelow(True)\n",
    "    \n",
    "    # Determine grid boundaries\n",
    "    all_points = [p for points in grid.pads.values() for p in points]\n",
    "    if not all_points:\n",
    "        print(\"No pads found in grid!\")\n",
    "        return\n",
    "    \n",
    "    min_x = min(p.x for p in all_points)\n",
    "    max_x = max(p.x for p in all_points)\n",
    "    min_y = min(p.y for p in all_points)\n",
    "    max_y = max(p.y for p in all_points)\n",
    "    \n",
    "    # Flip Y-axis (KiCad-style coordinates)\n",
    "    ax.set_ylim(max_y + 1, min_y - 1)  # Reversed order\n",
    "    \n",
    "    ax.set_xlim(min_x - 1, max_x + 1)\n",
    "    ax.set_xticks(range(min_x - 1, max_x + 2))\n",
    "    ax.set_yticks(range(min_y - 1, max_y + 2))\n",
    "    ax.set_aspect('equal')\n",
    "\n",
    "    # Create rectangle patches (full grid cells)\n",
    "    patches_list = []\n",
    "    colors = []\n",
    "    \n",
    "    for net, points in grid.pads.items():\n",
    "        color = tuple(c/255 for c in net.pad_c)  # Normalize RGB\n",
    "        for point in points:\n",
    "            # Create rectangle that fills the grid cell\n",
    "            rect = patches.Rectangle(\n",
    "                (point.x - 0.5, point.y - 0.5),  # Bottom-left corner\n",
    "                1, 1,  # Width and height\n",
    "                linewidth=1\n",
    "            )\n",
    "            patches_list.append(rect)\n",
    "            colors.append(color)\n",
    "\n",
    "    # Add all patches at once\n",
    "    collection = PatchCollection(\n",
    "        patches_list,\n",
    "        facecolor=colors,\n",
    "        edgecolor='black',\n",
    "        alpha=0.7  # Slightly transparent\n",
    "    )\n",
    "    ax.add_collection(collection)\n",
    "\n",
    "    # Add coordinate labels\n",
    "    for net, points in grid.pads.items():\n",
    "        for point in points:\n",
    "            ax.text(\n",
    "                point.x, point.y,\n",
    "                f\"({point.x},{point.y})\",\n",
    "                ha='center', va='center',\n",
    "                fontsize=8, color='white'\n",
    "            )\n",
    "\n",
    "    # Create legend\n",
    "    \n",
    "\n",
    "    plt.tight_layout()\n",
    "    plt.show()\n",
    "\n",
    "# Usage\n",
    "plot_pcb_grid(GRID)\n",
    "    \n"
   ]
  },
  {
   "cell_type": "code",
   "execution_count": null,
   "id": "e21a7c12",
   "metadata": {},
   "outputs": [],
   "source": []
  }
 ],
 "metadata": {
  "kernelspec": {
   "display_name": "Python 3 (ipykernel)",
   "language": "python",
   "name": "python3"
  },
  "language_info": {
   "codemirror_mode": {
    "name": "ipython",
    "version": 3
   },
   "file_extension": ".py",
   "mimetype": "text/x-python",
   "name": "python",
   "nbconvert_exporter": "python",
   "pygments_lexer": "ipython3",
   "version": "3.8.20"
  }
 },
 "nbformat": 4,
 "nbformat_minor": 5
}
