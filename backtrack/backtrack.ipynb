{
 "cells": [
  {
   "cell_type": "code",
   "execution_count": 1,
   "id": "032a6caf",
   "metadata": {},
   "outputs": [],
   "source": [
    "import numpy as np\n",
    "from dataclasses import dataclass, field\n",
    "from typing import List, Tuple, Set, Dict\n",
    "from collections import defaultdict\n",
    "\n",
    "from grid import Point, Net, Grid"
   ]
  },
  {
   "cell_type": "code",
   "execution_count": 2,
   "id": "7f529d92",
   "metadata": {},
   "outputs": [],
   "source": [
    "@dataclass\n",
    "class TraceCandidate:\n",
    "    start: Point\n",
    "    end: Point\n",
    "    path: Set[Point] # all points in the trace\n",
    "    net_id: str\n",
    "    probability: float"
   ]
  },
  {
   "cell_type": "code",
   "execution_count": 3,
   "id": "c97fe2ee",
   "metadata": {},
   "outputs": [],
   "source": [
    "def generate_all_traces(traces: List[TraceCandidate]) -> Dict[Tuple[Point, Point], List[TraceCandidate]]:\n",
    "    traces_by_prob = defaultdict(list)\n",
    "\n",
    "    for trace in traces:\n",
    "        key = (trace.start, trace.end)\n",
    "        traces_by_prob[key].append(trace)\n",
    "        \n",
    "    for pair in traces_by_prob:\n",
    "        traces_by_prob[pair].sort(key=lambda t: t.probability, reverse=True)\n",
    "\n",
    "    return traces_by_prob"
   ]
  },
  {
   "cell_type": "code",
   "execution_count": 26,
   "id": "cdd83a70",
   "metadata": {},
   "outputs": [
    {
     "name": "stdout",
     "output_type": "stream",
     "text": [
      "\n",
      " From Point(x=1, y=1) to Point(x=4, y=5):\n",
      "  prob=0.8, path={Point(x=2, y=3), Point(x=4, y=5), Point(x=1, y=1), Point(x=3, y=4)}\n",
      "  prob=0.6, path={Point(x=1, y=2), Point(x=1, y=1), Point(x=1, y=4), Point(x=4, y=5), Point(x=2, y=5), Point(x=1, y=3), Point(x=3, y=5)}\n",
      "\n",
      " From Point(x=4, y=1) to Point(x=1, y=5):\n",
      "  prob=0.5, path={Point(x=2, y=4), Point(x=3, y=3), Point(x=4, y=1), Point(x=4, y=2)}\n"
     ]
    }
   ],
   "source": [
    "pa = Point(1, 1)\n",
    "pb = Point(4, 5)\n",
    "\n",
    "pa1 = Point(1, 2)\n",
    "pa2 = Point(1, 3)\n",
    "pa3 = Point(1, 4)\n",
    "pa4 = Point(2, 5)\n",
    "pa5 = Point(3, 5)\n",
    "pa6 = Point(2, 3)\n",
    "pa7 = Point(3, 4)\n",
    "\n",
    "trace_ab1 = TraceCandidate(start=pa, end=pb, path={pa, pa1, pa2, pa3, pa4, pa5, pb}, net_id='net1', probability=0.6)\n",
    "trace_ab2 = TraceCandidate(start=pa, end=pb, path={pa, pa6, pa7, pb}, net_id='net1', probability=0.8)\n",
    "\n",
    "\n",
    "pc = Point(4, 1)\n",
    "pd = Point(1, 5)\n",
    "\n",
    "pc1 = Point(2, 4)\n",
    "pc2 = Point(3, 3)\n",
    "pc3 = Point(4, 2)\n",
    "\n",
    "\n",
    "\n",
    "trace_cd1 = TraceCandidate(start=pc, end=pd, path={pc, pc1, pc2, pc3}, net_id='net2', probability=0.5)\n",
    "\n",
    "traces = [trace_ab1, trace_ab2, trace_cd1]\n",
    "\n",
    "grouped = generate_all_traces(traces)\n",
    "\n",
    "for key, val in grouped.items():\n",
    "    print(f\"\\n From {key[0]} to {key[1]}:\")\n",
    "    for t in val:\n",
    "        print(f\"  prob={t.probability}, path={t.path}\")"
   ]
  },
  {
   "cell_type": "code",
   "execution_count": 5,
   "id": "2c16b7cc",
   "metadata": {},
   "outputs": [],
   "source": [
    "def cross_conflict(path1: Set[Point], path2: Set[Point]) -> bool:\n",
    "    for p in path1:\n",
    "        # 检查对角方向是否存在交叉\n",
    "        diag1 = Point(p.x + 1, p.y + 1)\n",
    "        if diag1 in path1 and Point(p.x, p.y + 1) in path2 and Point(p.x + 1, p.y) in path2:\n",
    "            return True\n",
    "        diag2 = Point(p.x + 1, p.y - 1)\n",
    "        if diag2 in path1 and Point(p.x, p.y - 1) in path2 and Point(p.x + 1, p.y) in path2:\n",
    "            return True\n",
    "    return False"
   ]
  },
  {
   "cell_type": "code",
   "execution_count": 24,
   "id": "1dfde0d6",
   "metadata": {},
   "outputs": [],
   "source": [
    "def backtrack_traces(traces_by_prob: Dict[Tuple[Point, Point], List[TraceCandidate]]) -> Dict[Tuple[Point, Point], List[TraceCandidate]]:\n",
    "    \n",
    "    result = []\n",
    "    #occupied = set()\n",
    "    keys = list(traces_by_prob.keys())\n",
    "    \n",
    "    def backtrack(index) -> bool:\n",
    "        if index == len(keys):\n",
    "            return True\n",
    "        \n",
    "        key = keys[index]\n",
    "        candidates = traces_by_prob[key] # candidates for current pair\n",
    "        \n",
    "        for trace in candidates:\n",
    "            \n",
    "            conflict = False\n",
    "            \n",
    "            for other_key, other_trace in result:\n",
    "                # 如果是同一个 net_id，直接跳过检测\n",
    "                if trace.net_id == other_trace.net_id:\n",
    "                    continue\n",
    "\n",
    "                # 判断是否有路径重合\n",
    "                if trace.path & other_trace.path:\n",
    "                    conflict = True\n",
    "                    break\n",
    "\n",
    "                # 判断是否斜对角冲突\n",
    "                if cross_conflict(trace.path, other_trace.path):\n",
    "                    conflict = True\n",
    "                    break\n",
    "\n",
    "            if conflict:\n",
    "                continue\n",
    "            else: \n",
    "                result.append((key, trace))\n",
    "                #occupied.update(trace.path)\n",
    "                \n",
    "            \n",
    "            if backtrack(index + 1):\n",
    "                return True\n",
    "            else:\n",
    "                result.pop()\n",
    "                #occupied.difference_update(trace.path)\n",
    "            \n",
    "        return False \n",
    "    \n",
    "    success = backtrack(0)\n",
    "    if success:\n",
    "        return dict(result)  # 返回 dict[(start, end)] = trace\n",
    "    else:\n",
    "        print(\"No available traces!\")\n",
    "        return None"
   ]
  },
  {
   "cell_type": "code",
   "execution_count": 27,
   "id": "e83a5991",
   "metadata": {},
   "outputs": [
    {
     "name": "stdout",
     "output_type": "stream",
     "text": [
      "\n",
      "\n",
      "\n",
      "\n",
      "{(Point(x=1, y=1), Point(x=4, y=5)): TraceCandidate(start=Point(x=1, y=1), end=Point(x=4, y=5), path={Point(x=1, y=2), Point(x=1, y=1), Point(x=1, y=4), Point(x=4, y=5), Point(x=2, y=5), Point(x=1, y=3), Point(x=3, y=5)}, net_id='net1', probability=0.6),\n",
      " (Point(x=4, y=1), Point(x=1, y=5)): TraceCandidate(start=Point(x=4, y=1), end=Point(x=1, y=5), path={Point(x=2, y=4), Point(x=3, y=3), Point(x=4, y=1), Point(x=4, y=2)}, net_id='net2', probability=0.5)}\n",
      "\n",
      "\n",
      "\n",
      "\n",
      "From Point(x=1, y=1) to Point(x=4, y=5):\n",
      "  Path: {Point(x=1, y=2), Point(x=1, y=1), Point(x=1, y=4), Point(x=4, y=5), Point(x=2, y=5), Point(x=1, y=3), Point(x=3, y=5)}\n",
      "  Probability: 0.6\n",
      "\n",
      "From Point(x=4, y=1) to Point(x=1, y=5):\n",
      "  Path: {Point(x=2, y=4), Point(x=3, y=3), Point(x=4, y=1), Point(x=4, y=2)}\n",
      "  Probability: 0.5\n",
      "\n"
     ]
    }
   ],
   "source": [
    "selected_traces = backtrack_traces(grouped)\n",
    "print(\"\\n\")\n",
    "print(\"\\n\")\n",
    "from pprint import pprint\n",
    "\n",
    "pprint(selected_traces)\n",
    "\n",
    "print(\"\\n\")\n",
    "print(\"\\n\")\n",
    "\n",
    "for key, trace in selected_traces.items():\n",
    "    print(f\"From {key[0]} to {key[1]}:\")\n",
    "    print(f\"  Path: {trace.path}\")\n",
    "    print(f\"  Probability: {trace.probability}\")\n",
    "    print()"
   ]
  },
  {
   "cell_type": "code",
   "execution_count": null,
   "id": "28ba76f8",
   "metadata": {},
   "outputs": [],
   "source": []
  },
  {
   "cell_type": "code",
   "execution_count": null,
   "id": "f90a48fc",
   "metadata": {},
   "outputs": [],
   "source": []
  }
 ],
 "metadata": {
  "kernelspec": {
   "display_name": "Python 3 (ipykernel)",
   "language": "python",
   "name": "python3"
  },
  "language_info": {
   "codemirror_mode": {
    "name": "ipython",
    "version": 3
   },
   "file_extension": ".py",
   "mimetype": "text/x-python",
   "name": "python",
   "nbconvert_exporter": "python",
   "pygments_lexer": "ipython3",
   "version": "3.8.20"
  }
 },
 "nbformat": 4,
 "nbformat_minor": 5
}
