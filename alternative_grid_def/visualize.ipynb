{
 "cells": [
  {
   "cell_type": "code",
   "execution_count": 25,
   "id": "2e80ffd2-80b3-4b11-936a-0f6b271313a8",
   "metadata": {
    "scrolled": true
   },
   "outputs": [
    {
     "data": {
      "image/png": "[encoded data removed]",
      "text/plain": [
       "<Figure size 640x480 with 1 Axes>"
      ]
     },
     "metadata": {},
     "output_type": "display_data"
    },
    {
     "name": "stdout",
     "output_type": "stream",
     "text": [
      "Collision between wire2 and wire1 is detected!\n",
      "Collision detected\n"
     ]
    }
   ],
   "source": [
    "from component import Wire, RectPad, Pad, SquarePad\n",
    "import collision\n",
    "import board\n",
    "import matplotlib.pyplot as plt\n",
    "\n",
    "def visualize_board(board):\n",
    "    # 先把所有的component列出來\n",
    "    fig, ax = plt.subplots()\n",
    "    for component_name in board.components.keys():\n",
    "        # component_name 是一個string, \n",
    "        if board.components[component_name].type == 'pad':\n",
    "            center = board.components[component_name].position\n",
    "            # print(center)\n",
    "            radius = board.components[component_name].radius\n",
    "            # print(radius)\n",
    "            circle = plt.Circle(center, radius, color='blue', fill=False)\n",
    "            ax.add_patch(circle)\n",
    "        elif board.components[component_name].type == 'wire':\n",
    "            radius = board.components[component_name].width / 2\n",
    "            \n",
    "            start_point = board.components[board.components[component_name].start_component].position\n",
    "            ax.add_patch(plt.Circle(start_point, radius, color = 'black', fill = True))\n",
    "            \n",
    "            end_point = board.components[board.components[component_name].end_component].position\n",
    "            ax.add_patch(plt.Circle(end_point, radius, color = 'black', fill = True))\n",
    "            \n",
    "            relay_points = board.components[component_name].get_relay_points()\n",
    "            \n",
    "            for point in relay_points:\n",
    "                center = point\n",
    "                # circle = plt.Circle(end_point, radius * 3, color = 'black', fill = True)\n",
    "                ax.add_patch(plt.Circle(point, radius, color = 'black', fill = True))\n",
    "\n",
    "            rectangles = board.components[component_name].get_segments()\n",
    "\n",
    "            for rectangle in rectangles:\n",
    "                ax.add_patch(plt.Polygon(rectangle, closed=True, fill=True, color = 'black', linewidth = 0.0001)) # 0.0001隨便assign的反正不是很重要\n",
    "                \n",
    "        else: # 那只剩rectpad和squarepad\n",
    "            rectangle = board.components[component_name].get_corners()\n",
    "            # print(\"4 corners is {}\".format(rectangle))\n",
    "            ax.add_patch(plt.Polygon(rectangle, closed = True, fill = False, edgecolor = 'red'))\n",
    "            \n",
    "    ax.set_aspect('equal')        # 坐标轴保持 1:1\n",
    "    ax.autoscale_view()           # 自动缩放坐标范围\n",
    "    plt.savefig(\"board_output.png\", format=\"png\")\n",
    "    plt.show()\n",
    "    \n",
    "def collision_detection(board):\n",
    "    component_name = list(board.components.keys())\n",
    "    \n",
    "    for component in component_name:\n",
    "        # print(\"the current component in hand is {}\".format(component))\n",
    "        test_list = list(board.components.keys()) # make a copy of component\n",
    "        test_list.remove(component)\n",
    "        \n",
    "        # print(\"test_list is {}\".format(test_list))\n",
    "\n",
    "        for test_obj in test_list:\n",
    "            collided = board.check_collision(board.components[test_obj], board.components[component])\n",
    "\n",
    "            if collided:\n",
    "                return True\n",
    "\n",
    "    return False # 能做到這代表兩兩檢查都沒有碰撞\n",
    "        \n",
    "board = board.good_board('foo2.txt')\n",
    "# print(type(board.components))\n",
    "visualize_board(board)\n",
    "if not collision_detection(board):\n",
    "    print(\"Congradulation!!!!! no collisoin!!!!! it's a valid instance of pcb board\")\n",
    "else:\n",
    "    print(\"Collision detected\")"
   ]
  },
  {
   "cell_type": "code",
   "execution_count": null,
   "id": "d85512ea-e8bd-498e-8b20-c1522ccfb3fe",
   "metadata": {},
   "outputs": [],
   "source": []
  }
 ],
 "metadata": {
  "kernelspec": {
   "display_name": "Python 3 (ipykernel)",
   "language": "python",
   "name": "python3"
  },
  "language_info": {
   "codemirror_mode": {
    "name": "ipython",
    "version": 3
   },
   "file_extension": ".py",
   "mimetype": "text/x-python",
   "name": "python",
   "nbconvert_exporter": "python",
   "pygments_lexer": "ipython3",
   "version": "3.12.7"
  }
 },
 "nbformat": 4,
 "nbformat_minor": 5
}
